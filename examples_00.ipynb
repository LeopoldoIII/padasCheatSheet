{
 "cells": [
  {
   "cell_type": "code",
   "id": "initial_id",
   "metadata": {
    "collapsed": true,
    "ExecuteTime": {
     "end_time": "2025-02-13T03:38:53.650567Z",
     "start_time": "2025-02-13T03:38:53.620245Z"
    }
   },
   "source": [
    "import pandas as pd\n",
    "\n",
    "\n",
    "import pandas as pd \n",
    "# load both csv files \n",
    "df1 = pd.read_csv('goodData/customers-1.csv')\n",
    "df2 = pd.read_csv('goodData/customers-2.csv')\n",
    "\n",
    "# Check the number of rows and columns in each dataset\n",
    "print(\"Shape of df1:\", df1.shape)\n",
    "print(\"Shape of df2:\", df2.shape)\n",
    "\n",
    "print(\"First DataSet\\n\", df1.head())\n",
    "\n",
    "print(\"Second DataSet\\n\", df2.head())\n",
    "\n"
   ],
   "outputs": [
    {
     "name": "stdout",
     "output_type": "stream",
     "text": [
      "Shape of df1: (50, 12)\n",
      "Shape of df2: (50, 12)\n",
      "First DataSet\n",
      "    Index      Customer Id First Name Last Name  \\\n",
      "0      1  DD37Cf93aecA6Dc     Sheryl    Baxter   \n",
      "1      2  1Ef7b82A4CAAD10    Preston    Lozano   \n",
      "2      3  6F94879bDAfE5a6        Roy     Berry   \n",
      "3      4  5Cef8BFA16c5e3c      Linda     Olsen   \n",
      "4      5  053d585Ab6b3159     Joanna    Bender   \n",
      "\n",
      "                           Company               City  \\\n",
      "0                  Rasmussen Group       East Leonard   \n",
      "1                      Vega-Gentry  East Jimmychester   \n",
      "2                    Murillo-Perry      Isabelborough   \n",
      "3  Dominguez, Mcmillan and Donovan         Bensonview   \n",
      "4         Martin, Lang and Andrade     West Priscilla   \n",
      "\n",
      "                      Country                 Phone 1                Phone 2  \\\n",
      "0                       Chile            229.077.5154       397.884.0519x718   \n",
      "1                    Djibouti              5153435776       686-620-1820x944   \n",
      "2         Antigua and Barbuda         +1-539-402-0259    (496)978-3969x58947   \n",
      "3          Dominican Republic  001-808-617-6467x12895        +1-813-324-8756   \n",
      "4  Slovakia (Slovak Republic)  001-234-203-0635x76146  001-199-446-3860x3486   \n",
      "\n",
      "                         Email Subscription Date                      Website  \n",
      "0     zunigavanessa@smith.info        2020-08-24   http://www.stephenson.com/  \n",
      "1              vmata@colon.com        2021-04-23        http://www.hobbs.com/  \n",
      "2          beckycarr@hogan.com        2020-03-25     http://www.lawrence.com/  \n",
      "3  stanleyblackwell@benson.org        2020-06-02   http://www.good-lyons.com/  \n",
      "4      colinalvarado@miles.net        2021-04-17  https://goodwin-ingram.com/  \n",
      "Second DataSet\n",
      "    Index      Customer Id First Name Last Name                       Company  \\\n",
      "0     51  Aa20BDe68eAb0e9     Gerald   Hawkins       Phelps, Forbes and Koch   \n",
      "1     52  e898eEB1B9FE22b     Samuel  Crawford       May, Goodwin and Martin   \n",
      "2     53  faCEF517ae7D8eB   Patricia   Goodwin  Christian, Winters and Ellis   \n",
      "3     54  c09952De6Cda8aA     Stacie   Richard                      Byrd Inc   \n",
      "4     55  f3BEf3Be028166f      Robin      West     Nixon, Blackwell and Sosa   \n",
      "\n",
      "             City     Country                 Phone 1                Phone 2  \\\n",
      "0  New Alberttown      Canada   +1-323-239-1456x96168          (092)508-0269   \n",
      "1   South Jasmine     Algeria            802-242-7457      626.116.9535x8578   \n",
      "2       Cowanfort   Swaziland      322.549.7139x70040          (111)741-4173   \n",
      "3     New Deborah  Madagascar  001-622-948-3641x24810  001-731-168-2893x8891   \n",
      "4       Wallstown     Ecuador            698.303.4267   001-683-837-7651x525   \n",
      "\n",
      "                         Email Subscription Date                  Website  \n",
      "0     uwarner@steele-arias.com        2021-03-19  https://valenzuela.com/  \n",
      "1   xpittman@ritter-carney.net        2021-03-27    https://guerrero.org/  \n",
      "2      vaughanchristy@lara.biz        2021-03-08       http://clark.info/  \n",
      "3    clinton85@colon-arias.org        2020-10-15         https://kim.com/  \n",
      "4  greenemiranda@zimmerman.com        2022-01-13    https://www.mora.com/  \n"
     ]
    }
   ],
   "execution_count": 5
  },
  {
   "metadata": {
    "ExecuteTime": {
     "end_time": "2025-02-13T03:39:51.737751Z",
     "start_time": "2025-02-13T03:39:51.732212Z"
    }
   },
   "cell_type": "code",
   "source": [
    "# Concatenate both DataFrames vertically \n",
    "df_combined = pd.concat([df1, df2], ignore_index=True)\n",
    "\n",
    "# Display the first few rows of the conbined DataFrame\n",
    "print(\"\\nCombined DataFrame:\\n\", df_combined.head())"
   ],
   "id": "689ae750ff94821c",
   "outputs": [
    {
     "name": "stdout",
     "output_type": "stream",
     "text": [
      "\n",
      "Combined DataFrame:\n",
      "    Index      Customer Id First Name Last Name  \\\n",
      "0      1  DD37Cf93aecA6Dc     Sheryl    Baxter   \n",
      "1      2  1Ef7b82A4CAAD10    Preston    Lozano   \n",
      "2      3  6F94879bDAfE5a6        Roy     Berry   \n",
      "3      4  5Cef8BFA16c5e3c      Linda     Olsen   \n",
      "4      5  053d585Ab6b3159     Joanna    Bender   \n",
      "\n",
      "                           Company               City  \\\n",
      "0                  Rasmussen Group       East Leonard   \n",
      "1                      Vega-Gentry  East Jimmychester   \n",
      "2                    Murillo-Perry      Isabelborough   \n",
      "3  Dominguez, Mcmillan and Donovan         Bensonview   \n",
      "4         Martin, Lang and Andrade     West Priscilla   \n",
      "\n",
      "                      Country                 Phone 1                Phone 2  \\\n",
      "0                       Chile            229.077.5154       397.884.0519x718   \n",
      "1                    Djibouti              5153435776       686-620-1820x944   \n",
      "2         Antigua and Barbuda         +1-539-402-0259    (496)978-3969x58947   \n",
      "3          Dominican Republic  001-808-617-6467x12895        +1-813-324-8756   \n",
      "4  Slovakia (Slovak Republic)  001-234-203-0635x76146  001-199-446-3860x3486   \n",
      "\n",
      "                         Email Subscription Date                      Website  \n",
      "0     zunigavanessa@smith.info        2020-08-24   http://www.stephenson.com/  \n",
      "1              vmata@colon.com        2021-04-23        http://www.hobbs.com/  \n",
      "2          beckycarr@hogan.com        2020-03-25     http://www.lawrence.com/  \n",
      "3  stanleyblackwell@benson.org        2020-06-02   http://www.good-lyons.com/  \n",
      "4      colinalvarado@miles.net        2021-04-17  https://goodwin-ingram.com/  \n"
     ]
    }
   ],
   "execution_count": 6
  },
  {
   "metadata": {
    "ExecuteTime": {
     "end_time": "2025-02-13T03:49:44.582422Z",
     "start_time": "2025-02-13T03:49:44.575077Z"
    }
   },
   "cell_type": "code",
   "source": [
    "# check for duplicates based on the 'Customer Id'\n",
    "duplicates = df_combined[df_combined.duplicated(subset=['First Name'], keep=False)]\n",
    "\n",
    "#Display duplicated rows (if any)\n",
    "print(\"\\nDuplicate Records:\\n\", duplicates)"
   ],
   "id": "dba0358ce4691a1a",
   "outputs": [
    {
     "name": "stdout",
     "output_type": "stream",
     "text": [
      "\n",
      "Duplicate Records:\n",
      "     Index      Customer Id First Name Last Name                     Company  \\\n",
      "0       1  DD37Cf93aecA6Dc     Sheryl    Baxter             Rasmussen Group   \n",
      "4       5  053d585Ab6b3159     Joanna    Bender    Martin, Lang and Andrade   \n",
      "8       9  C2dE4dEEc489ae0     Sheryl    Meyers              Browning-Simon   \n",
      "14     15  6fEaA1b7cab7B6C      Faith      Lutz              Carter-Hancock   \n",
      "19     20  0F60FF3DdCd7aB0     Joanna      Kirk              Mays-Mccormick   \n",
      "24     25  eC1927Ca84E033e      Shane    Wilcox                  Tucker LLC   \n",
      "31     32  679c6c83DD872d6        Tom  Trujillo                 Mcgee Group   \n",
      "34     35  aA9BAFfBc3710fe      Faith      Moon   Waters, Chase and Aguilar   \n",
      "39     40  17aD8e2dB3df03D     Sherry     Garza                Anderson Ltd   \n",
      "60     61  a940cE42e035F28       Lynn      Pham  Brennan, Camacho and Tapia   \n",
      "67     68  a014Ec1b9FccC1E        Tom  Alvarado         Donaldson-Dougherty   \n",
      "91     92  98b3aeDcC3B9FF3      Shane     Foley                  Rocha-Hart   \n",
      "93     94  54B5B5Fe9F1B6C5     Sherry     Young     Lee, Lucero and Johnson   \n",
      "96     97  CeD220bdAaCfaDf       Lynn  Atkinson       Ware, Burns and Oneal   \n",
      "\n",
      "                 City                     Country                 Phone 1  \\\n",
      "0        East Leonard                       Chile            229.077.5154   \n",
      "4      West Priscilla  Slovakia (Slovak Republic)  001-234-203-0635x76146   \n",
      "8        Robersonstad                      Cyprus       854-138-4911x5772   \n",
      "14          Burchbury                   Singapore      (781)861-7180x8306   \n",
      "19         Jamesshire            French Polynesia       (266)131-7001x711   \n",
      "24         Bryanville                     Albania     (429)005-9030x11004   \n",
      "31  Cunninghamborough                     Denmark            416-338-3758   \n",
      "34   West Marthaburgh                     Bahamas    +1-586-217-0359x6317   \n",
      "39          West John                      Poland    001-067-713-6440x158   \n",
      "60    East Pennyshire                    Portugal        846.468.6834x611   \n",
      "67   South Sophiaberg                    Kiribati      (585)606-2980x2258   \n",
      "91   South Dannymouth                     Hungary         +1-822-569-0302   \n",
      "93       Frankchester             Solomon Islands            158-687-1764   \n",
      "96       New Bradview                   Sri Lanka         +1-846-706-2218   \n",
      "\n",
      "                   Phone 2                              Email  \\\n",
      "0         397.884.0519x718           zunigavanessa@smith.info   \n",
      "4    001-199-446-3860x3486            colinalvarado@miles.net   \n",
      "8      +1-448-910-2276x729            mariokhan@ryan-pope.org   \n",
      "14            207-185-3665  cassieparrish@blevins-chapman.net   \n",
      "19     (283)312-5579x11543            tuckerangie@salazar.net   \n",
      "24            541-116-4501                mariah88@santos.com   \n",
      "31           (775)890-7209               tapiagreg@beard.info   \n",
      "34         +1-818-199-1403     willistonya@randolph-baker.com   \n",
      "39      (978)289-8785x5766                   ann48@miller.com   \n",
      "60        001-248-691-0006              mpham@rios-guzman.com   \n",
      "67       730-797-3594x5614      nicholsonnina@montgomery.info   \n",
      "91  001-626-114-5844x55073                 nsteele@sparks.com   \n",
      "93       (438)375-6207x003        alan79@gates-mclaughlin.com   \n",
      "96            605.413.3198                  vkemp@ferrell.com   \n",
      "\n",
      "   Subscription Date                        Website  \n",
      "0         2020-08-24     http://www.stephenson.com/  \n",
      "4         2021-04-17    https://goodwin-ingram.com/  \n",
      "8         2020-01-13       https://www.bullock.net/  \n",
      "14        2022-01-26          http://stevenson.org/  \n",
      "19        2021-09-24       https://www.camacho.net/  \n",
      "24        2021-04-06         https://www.ramos.com/  \n",
      "31        2022-01-13  http://www.daniels-klein.com/  \n",
      "34        2021-11-03  https://spencer-charles.info/  \n",
      "39        2021-11-01             http://spence.com/  \n",
      "60        2020-08-21        https://www.murphy.com/  \n",
      "67        2020-08-18        http://odom-massey.com/  \n",
      "91        2021-07-06   https://www.holt-sparks.com/  \n",
      "93        2021-04-04            https://travis.net/  \n",
      "96        2021-07-10     https://novak-allison.com/  \n"
     ]
    }
   ],
   "execution_count": 8
  }
 ],
 "metadata": {
  "kernelspec": {
   "display_name": "Python 3",
   "language": "python",
   "name": "python3"
  },
  "language_info": {
   "codemirror_mode": {
    "name": "ipython",
    "version": 2
   },
   "file_extension": ".py",
   "mimetype": "text/x-python",
   "name": "python",
   "nbconvert_exporter": "python",
   "pygments_lexer": "ipython2",
   "version": "2.7.6"
  }
 },
 "nbformat": 4,
 "nbformat_minor": 5
}
