{
 "cells": [
  {
   "cell_type": "code",
   "id": "initial_id",
   "metadata": {
    "collapsed": true,
    "ExecuteTime": {
     "end_time": "2025-02-13T14:13:58.761667Z",
     "start_time": "2025-02-13T14:13:58.165548Z"
    }
   },
   "source": [
    "import pandas as pd\n",
    "\n",
    "\n",
    "import pandas as pd \n",
    "# load both csv files \n",
    "df1 = pd.read_csv('cleanData/customers-1.csv')\n",
    "df2 = pd.read_csv('cleanData/customers-2.csv')\n",
    "\n",
    "# Check the number of rows and columns in each dataset\n",
    "print(\"Shape of df1:\", df1.shape)\n",
    "print(\"Shape of df2:\", df2.shape)\n",
    "\n",
    "print(\"First DataSet\\n\", df1.head())\n",
    "\n",
    "print(\"Second DataSet\\n\", df2.head())\n",
    "\n"
   ],
   "outputs": [
    {
     "name": "stdout",
     "output_type": "stream",
     "text": [
      "Shape of df1: (50, 12)\n",
      "Shape of df2: (50, 12)\n",
      "First DataSet\n",
      "    Index      Customer Id First Name Last Name  \\\n",
      "0      1  DD37Cf93aecA6Dc     Sheryl    Baxter   \n",
      "1      2  1Ef7b82A4CAAD10    Preston    Lozano   \n",
      "2      3  6F94879bDAfE5a6        Roy     Berry   \n",
      "3      4  5Cef8BFA16c5e3c      Linda     Olsen   \n",
      "4      5  053d585Ab6b3159     Joanna    Bender   \n",
      "\n",
      "                           Company               City  \\\n",
      "0                  Rasmussen Group       East Leonard   \n",
      "1                      Vega-Gentry  East Jimmychester   \n",
      "2                    Murillo-Perry      Isabelborough   \n",
      "3  Dominguez, Mcmillan and Donovan         Bensonview   \n",
      "4         Martin, Lang and Andrade     West Priscilla   \n",
      "\n",
      "                      Country                 Phone 1                Phone 2  \\\n",
      "0                       Chile            229.077.5154       397.884.0519x718   \n",
      "1                    Djibouti              5153435776       686-620-1820x944   \n",
      "2         Antigua and Barbuda         +1-539-402-0259    (496)978-3969x58947   \n",
      "3          Dominican Republic  001-808-617-6467x12895        +1-813-324-8756   \n",
      "4  Slovakia (Slovak Republic)  001-234-203-0635x76146  001-199-446-3860x3486   \n",
      "\n",
      "                         Email Subscription Date                      Website  \n",
      "0     zunigavanessa@smith.info        2020-08-24   http://www.stephenson.com/  \n",
      "1              vmata@colon.com        2021-04-23        http://www.hobbs.com/  \n",
      "2          beckycarr@hogan.com        2020-03-25     http://www.lawrence.com/  \n",
      "3  stanleyblackwell@benson.org        2020-06-02   http://www.good-lyons.com/  \n",
      "4      colinalvarado@miles.net        2021-04-17  https://goodwin-ingram.com/  \n",
      "Second DataSet\n",
      "    Index      Customer Id First Name Last Name                       Company  \\\n",
      "0     51  Aa20BDe68eAb0e9     Gerald   Hawkins       Phelps, Forbes and Koch   \n",
      "1     52  e898eEB1B9FE22b     Samuel  Crawford       May, Goodwin and Martin   \n",
      "2     53  faCEF517ae7D8eB   Patricia   Goodwin  Christian, Winters and Ellis   \n",
      "3     54  c09952De6Cda8aA     Stacie   Richard                      Byrd Inc   \n",
      "4     55  f3BEf3Be028166f      Robin      West     Nixon, Blackwell and Sosa   \n",
      "\n",
      "             City     Country                 Phone 1                Phone 2  \\\n",
      "0  New Alberttown      Canada   +1-323-239-1456x96168          (092)508-0269   \n",
      "1   South Jasmine     Algeria            802-242-7457      626.116.9535x8578   \n",
      "2       Cowanfort   Swaziland      322.549.7139x70040          (111)741-4173   \n",
      "3     New Deborah  Madagascar  001-622-948-3641x24810  001-731-168-2893x8891   \n",
      "4       Wallstown     Ecuador            698.303.4267   001-683-837-7651x525   \n",
      "\n",
      "                         Email Subscription Date                  Website  \n",
      "0     uwarner@steele-arias.com        2021-03-19  https://valenzuela.com/  \n",
      "1   xpittman@ritter-carney.net        2021-03-27    https://guerrero.org/  \n",
      "2      vaughanchristy@lara.biz        2021-03-08       http://clark.info/  \n",
      "3    clinton85@colon-arias.org        2020-10-15         https://kim.com/  \n",
      "4  greenemiranda@zimmerman.com        2022-01-13    https://www.mora.com/  \n"
     ]
    }
   ],
   "execution_count": 2
  },
  {
   "metadata": {
    "ExecuteTime": {
     "end_time": "2025-02-13T14:13:58.766438Z",
     "start_time": "2025-02-13T14:13:58.762600Z"
    }
   },
   "cell_type": "code",
   "source": [
    "# Concatenate both DataFrames vertically \n",
    "df_combined = pd.concat([df1, df2], ignore_index=True)\n",
    "\n",
    "# Display the first few rows of the conbined DataFrame\n",
    "print(\"\\nCombined DataFrame:\\n\", df_combined.head())"
   ],
   "id": "689ae750ff94821c",
   "outputs": [
    {
     "name": "stdout",
     "output_type": "stream",
     "text": [
      "\n",
      "Combined DataFrame:\n",
      "    Index      Customer Id First Name Last Name  \\\n",
      "0      1  DD37Cf93aecA6Dc     Sheryl    Baxter   \n",
      "1      2  1Ef7b82A4CAAD10    Preston    Lozano   \n",
      "2      3  6F94879bDAfE5a6        Roy     Berry   \n",
      "3      4  5Cef8BFA16c5e3c      Linda     Olsen   \n",
      "4      5  053d585Ab6b3159     Joanna    Bender   \n",
      "\n",
      "                           Company               City  \\\n",
      "0                  Rasmussen Group       East Leonard   \n",
      "1                      Vega-Gentry  East Jimmychester   \n",
      "2                    Murillo-Perry      Isabelborough   \n",
      "3  Dominguez, Mcmillan and Donovan         Bensonview   \n",
      "4         Martin, Lang and Andrade     West Priscilla   \n",
      "\n",
      "                      Country                 Phone 1                Phone 2  \\\n",
      "0                       Chile            229.077.5154       397.884.0519x718   \n",
      "1                    Djibouti              5153435776       686-620-1820x944   \n",
      "2         Antigua and Barbuda         +1-539-402-0259    (496)978-3969x58947   \n",
      "3          Dominican Republic  001-808-617-6467x12895        +1-813-324-8756   \n",
      "4  Slovakia (Slovak Republic)  001-234-203-0635x76146  001-199-446-3860x3486   \n",
      "\n",
      "                         Email Subscription Date                      Website  \n",
      "0     zunigavanessa@smith.info        2020-08-24   http://www.stephenson.com/  \n",
      "1              vmata@colon.com        2021-04-23        http://www.hobbs.com/  \n",
      "2          beckycarr@hogan.com        2020-03-25     http://www.lawrence.com/  \n",
      "3  stanleyblackwell@benson.org        2020-06-02   http://www.good-lyons.com/  \n",
      "4      colinalvarado@miles.net        2021-04-17  https://goodwin-ingram.com/  \n"
     ]
    }
   ],
   "execution_count": 3
  },
  {
   "metadata": {
    "ExecuteTime": {
     "end_time": "2025-02-13T14:13:58.773412Z",
     "start_time": "2025-02-13T14:13:58.767027Z"
    }
   },
   "cell_type": "code",
   "source": [
    "# check for duplicates based on the 'First Name'\n",
    "duplicates = df_combined[df_combined.duplicated(subset=['First Name'], keep=False)]\n",
    "\n",
    "#Display duplicated rows (if any)\n",
    "print(\"\\nDuplicate Records:\\n\", duplicates)"
   ],
   "id": "dba0358ce4691a1a",
   "outputs": [
    {
     "name": "stdout",
     "output_type": "stream",
     "text": [
      "\n",
      "Duplicate Records:\n",
      "     Index      Customer Id First Name Last Name                     Company  \\\n",
      "0       1  DD37Cf93aecA6Dc     Sheryl    Baxter             Rasmussen Group   \n",
      "4       5  053d585Ab6b3159     Joanna    Bender    Martin, Lang and Andrade   \n",
      "8       9  C2dE4dEEc489ae0     Sheryl    Meyers              Browning-Simon   \n",
      "14     15  6fEaA1b7cab7B6C      Faith      Lutz              Carter-Hancock   \n",
      "19     20  0F60FF3DdCd7aB0     Joanna      Kirk              Mays-Mccormick   \n",
      "24     25  eC1927Ca84E033e      Shane    Wilcox                  Tucker LLC   \n",
      "31     32  679c6c83DD872d6        Tom  Trujillo                 Mcgee Group   \n",
      "34     35  aA9BAFfBc3710fe      Faith      Moon   Waters, Chase and Aguilar   \n",
      "39     40  17aD8e2dB3df03D     Sherry     Garza                Anderson Ltd   \n",
      "60     61  a940cE42e035F28       Lynn      Pham  Brennan, Camacho and Tapia   \n",
      "67     68  a014Ec1b9FccC1E        Tom  Alvarado         Donaldson-Dougherty   \n",
      "91     92  98b3aeDcC3B9FF3      Shane     Foley                  Rocha-Hart   \n",
      "93     94  54B5B5Fe9F1B6C5     Sherry     Young     Lee, Lucero and Johnson   \n",
      "96     97  CeD220bdAaCfaDf       Lynn  Atkinson       Ware, Burns and Oneal   \n",
      "\n",
      "                 City                     Country                 Phone 1  \\\n",
      "0        East Leonard                       Chile            229.077.5154   \n",
      "4      West Priscilla  Slovakia (Slovak Republic)  001-234-203-0635x76146   \n",
      "8        Robersonstad                      Cyprus       854-138-4911x5772   \n",
      "14          Burchbury                   Singapore      (781)861-7180x8306   \n",
      "19         Jamesshire            French Polynesia       (266)131-7001x711   \n",
      "24         Bryanville                     Albania     (429)005-9030x11004   \n",
      "31  Cunninghamborough                     Denmark            416-338-3758   \n",
      "34   West Marthaburgh                     Bahamas    +1-586-217-0359x6317   \n",
      "39          West John                      Poland    001-067-713-6440x158   \n",
      "60    East Pennyshire                    Portugal        846.468.6834x611   \n",
      "67   South Sophiaberg                    Kiribati      (585)606-2980x2258   \n",
      "91   South Dannymouth                     Hungary         +1-822-569-0302   \n",
      "93       Frankchester             Solomon Islands            158-687-1764   \n",
      "96       New Bradview                   Sri Lanka         +1-846-706-2218   \n",
      "\n",
      "                   Phone 2                              Email  \\\n",
      "0         397.884.0519x718           zunigavanessa@smith.info   \n",
      "4    001-199-446-3860x3486            colinalvarado@miles.net   \n",
      "8      +1-448-910-2276x729            mariokhan@ryan-pope.org   \n",
      "14            207-185-3665  cassieparrish@blevins-chapman.net   \n",
      "19     (283)312-5579x11543            tuckerangie@salazar.net   \n",
      "24            541-116-4501                mariah88@santos.com   \n",
      "31           (775)890-7209               tapiagreg@beard.info   \n",
      "34         +1-818-199-1403     willistonya@randolph-baker.com   \n",
      "39      (978)289-8785x5766                   ann48@miller.com   \n",
      "60        001-248-691-0006              mpham@rios-guzman.com   \n",
      "67       730-797-3594x5614      nicholsonnina@montgomery.info   \n",
      "91  001-626-114-5844x55073                 nsteele@sparks.com   \n",
      "93       (438)375-6207x003        alan79@gates-mclaughlin.com   \n",
      "96            605.413.3198                  vkemp@ferrell.com   \n",
      "\n",
      "   Subscription Date                        Website  \n",
      "0         2020-08-24     http://www.stephenson.com/  \n",
      "4         2021-04-17    https://goodwin-ingram.com/  \n",
      "8         2020-01-13       https://www.bullock.net/  \n",
      "14        2022-01-26          http://stevenson.org/  \n",
      "19        2021-09-24       https://www.camacho.net/  \n",
      "24        2021-04-06         https://www.ramos.com/  \n",
      "31        2022-01-13  http://www.daniels-klein.com/  \n",
      "34        2021-11-03  https://spencer-charles.info/  \n",
      "39        2021-11-01             http://spence.com/  \n",
      "60        2020-08-21        https://www.murphy.com/  \n",
      "67        2020-08-18        http://odom-massey.com/  \n",
      "91        2021-07-06   https://www.holt-sparks.com/  \n",
      "93        2021-04-04            https://travis.net/  \n",
      "96        2021-07-10     https://novak-allison.com/  \n"
     ]
    }
   ],
   "execution_count": 4
  },
  {
   "metadata": {
    "ExecuteTime": {
     "end_time": "2025-02-13T14:14:32.644310Z",
     "start_time": "2025-02-13T14:14:32.636938Z"
    }
   },
   "cell_type": "code",
   "source": [
    "# Remove duplicate First Name, keeping only the first occurence\n",
    "df_first_name_duplicates = df_combined.drop_duplicates(subset=['First Name'], keep='first')\n",
    "\n",
    "\n",
    "print(\"\\nFinal records:\", df_first_name_duplicates)\n",
    "print(\"\\nShape after removing duplicates:\", df_first_name_duplicates.shape)"
   ],
   "id": "f409ba9717426e10",
   "outputs": [
    {
     "name": "stdout",
     "output_type": "stream",
     "text": [
      "\n",
      "Final records:     Index      Customer Id First Name Last Name  \\\n",
      "0       1  DD37Cf93aecA6Dc     Sheryl    Baxter   \n",
      "1       2  1Ef7b82A4CAAD10    Preston    Lozano   \n",
      "2       3  6F94879bDAfE5a6        Roy     Berry   \n",
      "3       4  5Cef8BFA16c5e3c      Linda     Olsen   \n",
      "4       5  053d585Ab6b3159     Joanna    Bender   \n",
      "..    ...              ...        ...       ...   \n",
      "94     95  BE91A0bdcA49Bbc    Darrell   Douglas   \n",
      "95     96  cb8E23e48d22Eae       Karl     Greer   \n",
      "97     98  28CDbC0dFe4b1Db       Fred    Guerra   \n",
      "98     99  c23d1D9EE8DEB0A     Yvonne    Farmer   \n",
      "99    100  2354a0E336A91A1   Clarence    Haynes   \n",
      "\n",
      "                            Company               City  \\\n",
      "0                   Rasmussen Group       East Leonard   \n",
      "1                       Vega-Gentry  East Jimmychester   \n",
      "2                     Murillo-Perry      Isabelborough   \n",
      "3   Dominguez, Mcmillan and Donovan         Bensonview   \n",
      "4          Martin, Lang and Andrade     West Priscilla   \n",
      "..                              ...                ...   \n",
      "94      Newton, Petersen and Mathis       Daisyborough   \n",
      "95                        Carey LLC       East Richard   \n",
      "97                    Schmitt-Jones         Ortegaland   \n",
      "98               Fitzgerald-Harrell    Lake Elijahview   \n",
      "99               Le, Nash and Cross          Judymouth   \n",
      "\n",
      "                       Country                 Phone 1  \\\n",
      "0                        Chile            229.077.5154   \n",
      "1                     Djibouti              5153435776   \n",
      "2          Antigua and Barbuda         +1-539-402-0259   \n",
      "3           Dominican Republic  001-808-617-6467x12895   \n",
      "4   Slovakia (Slovak Republic)  001-234-203-0635x76146   \n",
      "..                         ...                     ...   \n",
      "94                        Mali   001-084-845-9524x1777   \n",
      "95                      Guyana     (188)169-1674x58692   \n",
      "97             Solomon Islands    +1-753-067-8419x7170   \n",
      "98                       Aruba           (530)311-9786   \n",
      "99                    Honduras           (753)813-6941   \n",
      "\n",
      "                   Phone 2                           Email Subscription Date  \\\n",
      "0         397.884.0519x718        zunigavanessa@smith.info        2020-08-24   \n",
      "1         686-620-1820x944                 vmata@colon.com        2021-04-23   \n",
      "2      (496)978-3969x58947             beckycarr@hogan.com        2020-03-25   \n",
      "3          +1-813-324-8756     stanleyblackwell@benson.org        2020-06-02   \n",
      "4    001-199-446-3860x3486         colinalvarado@miles.net        2021-04-17   \n",
      "..                     ...                             ...               ...   \n",
      "94        001-769-564-6303        grayjean@lowery-good.com        2022-02-17   \n",
      "95    001-841-293-3519x614                hhart@jensen.com        2022-01-30   \n",
      "97   +1-632-666-7507x92121                swagner@kane.org        2021-09-18   \n",
      "98  001-869-452-0943x12424  mccarthystephen@horn-green.biz        2021-08-11   \n",
      "99            783.639.1472          colleen91@faulkner.biz        2020-03-11   \n",
      "\n",
      "                              Website  \n",
      "0          http://www.stephenson.com/  \n",
      "1               http://www.hobbs.com/  \n",
      "2            http://www.lawrence.com/  \n",
      "3          http://www.good-lyons.com/  \n",
      "4         https://goodwin-ingram.com/  \n",
      "..                                ...  \n",
      "94                 https://banks.biz/  \n",
      "95            http://hayes-perez.com/  \n",
      "97              https://www.ross.com/  \n",
      "98               http://watkins.info/  \n",
      "99  http://www.hatfield-saunders.net/  \n",
      "\n",
      "[93 rows x 12 columns]\n",
      "\n",
      "Shape after removing duplicates: (93, 12)\n"
     ]
    }
   ],
   "execution_count": 6
  },
  {
   "metadata": {
    "ExecuteTime": {
     "end_time": "2025-02-13T14:16:28.833853Z",
     "start_time": "2025-02-13T14:16:28.830308Z"
    }
   },
   "cell_type": "code",
   "source": [
    "# Check for missing values in each colum \n",
    "print(\"\\nMissing Values:\\n\", df_combined.isnull().sum())\n",
    "\n",
    "print(df_combined.fillna(\"Unknown\", inplace=True))"
   ],
   "id": "6203b8fc6b305ba8",
   "outputs": [
    {
     "name": "stdout",
     "output_type": "stream",
     "text": [
      "\n",
      "Missing Values:\n",
      " Index                0\n",
      "Customer Id          0\n",
      "First Name           0\n",
      "Last Name            0\n",
      "Company              0\n",
      "City                 0\n",
      "Country              0\n",
      "Phone 1              0\n",
      "Phone 2              0\n",
      "Email                0\n",
      "Subscription Date    0\n",
      "Website              0\n",
      "dtype: int64\n",
      "None\n"
     ]
    }
   ],
   "execution_count": 9
  },
  {
   "metadata": {},
   "cell_type": "markdown",
   "source": [
    "## Sort customers by Subscription Date\n",
    "\n",
    "We can sort the DataFrame by the Subscription Date column to see which customers subscribed first. "
   ],
   "id": "de2e9fe35c57e6dd"
  },
  {
   "metadata": {
    "ExecuteTime": {
     "end_time": "2025-02-13T14:25:06.253296Z",
     "start_time": "2025-02-13T14:25:06.244565Z"
    }
   },
   "cell_type": "code",
   "source": [
    "# Convert Subscription Data to datatime format\n",
    "# df_combined['Subscription Date'] = pd.to_datetime(df_combined['Subscription Date'])\n",
    "\n",
    "# Sort DataFrame by Susbscription Date \n",
    "df_sobscription_date = df_combined.sort_values(by='Subscription Date')\n",
    "\n",
    "# Display the first few rows after sorting\n",
    "print(\"\\nSorted by Subscription Date:\\n\", df_sobscription_date)"
   ],
   "id": "bebd01d03dfa4282",
   "outputs": [
    {
     "name": "stdout",
     "output_type": "stream",
     "text": [
      "0    2020-08-24\n",
      "1    2021-04-23\n",
      "2    2020-03-25\n",
      "3    2020-06-02\n",
      "4    2021-04-17\n",
      "        ...    \n",
      "95   2022-01-30\n",
      "96   2021-07-10\n",
      "97   2021-09-18\n",
      "98   2021-08-11\n",
      "99   2020-03-11\n",
      "Name: Subscription Date, Length: 100, dtype: datetime64[ns]\n",
      "\n",
      "Sorted by Subscription Date:\n",
      "     Index      Customer Id First Name   Last Name                     Company  \\\n",
      "8       9  C2dE4dEEc489ae0     Sheryl      Meyers              Browning-Simon   \n",
      "66     67  2A13F74EAa7DA6c    Makayla      Cannon               Henderson Inc   \n",
      "69     70  CC68FD1D3Bbbf22      Riley        Good                    Wade PLC   \n",
      "73     74  A3F76Be153Df4a3      Anita      Benson                 Parrish Ltd   \n",
      "84     85  03A1E62ADdeb31c      Corey        Holt  Mcdonald, Bird and Ramirez   \n",
      "..    ...              ...        ...         ...                         ...   \n",
      "85     86  C6763c99d0bd16D       Emma  Cunningham                Stephens Inc   \n",
      "43     44  D3fC11A9C235Dc6       Luis       Greer                   Cross PLC   \n",
      "63     64  FCBdfCEAe20A8Dc      Chloe  Hutchinson                   Simon LLC   \n",
      "25     26  09D7D7C8Fe09aea     Marcus       Moody                   Giles Ltd   \n",
      "27     28  b92EBfdF8a3f0E6  Frederick      Harper   Hinton, Chaney and Stokes   \n",
      "\n",
      "                 City             Country                 Phone 1  \\\n",
      "8        Robersonstad              Cyprus       854-138-4911x5772   \n",
      "66         Georgeport       New Caledonia  001-215-801-6392x46009   \n",
      "69         Erikaville              Canada              6977745822   \n",
      "73        Skinnerport  Russian Federation      874.617.5668x69878   \n",
      "84         New Glenda                Fiji   001-439-242-4986x7918   \n",
      "..                ...                 ...                     ...   \n",
      "85  North Jillianview         New Zealand      128-059-0206x60217   \n",
      "43         North Drew            Bulgaria    001-336-025-6849x701   \n",
      "63        South Julia         Netherlands            981-544-9452   \n",
      "25        Kaitlyntown              Panama            674-677-8623   \n",
      "27  South Marissatown         Switzerland    +1-077-121-1558x0687   \n",
      "\n",
      "                Phone 2                            Email Subscription Date  \\\n",
      "8   +1-448-910-2276x729          mariokhan@ryan-pope.org        2020-01-13   \n",
      "66         027-609-6460           scottcurtis@hurley.biz        2020-01-20   \n",
      "69         855-436-7641              alex06@galloway.com        2020-02-03   \n",
      "73   (399)820-6418x0071             angie04@oconnell.com        2020-02-09   \n",
      "84           3162708934             maurice46@morgan.com        2020-02-18   \n",
      "..                  ...                              ...               ...   \n",
      "85   (312)164-4545x2284              walter83@juarez.org        2022-05-13   \n",
      "43    684.698.2911x6092   bstuart@williamson-mcclure.com        2022-05-15   \n",
      "63  +1-288-552-4666x060        leah85@sutton-terrell.com        2022-05-15   \n",
      "25     909-277-5485x566  donnamullins@norris-barrett.org        2022-05-24   \n",
      "27         264.742.7149             jacobkhan@bright.biz        2022-05-26   \n",
      "\n",
      "                          Website  \n",
      "8        https://www.bullock.net/  \n",
      "66      http://www.velazquez.net/  \n",
      "69             http://conway.org/  \n",
      "73            http://oconnor.com/  \n",
      "84         http://www.watson.com/  \n",
      "..                            ...  \n",
      "85          http://www.reid.info/  \n",
      "43  https://fletcher-nielsen.com/  \n",
      "63         https://mitchell.info/  \n",
      "25         https://www.curry.com/  \n",
      "27          https://callahan.org/  \n",
      "\n",
      "[100 rows x 12 columns]\n"
     ]
    }
   ],
   "execution_count": 18
  },
  {
   "metadata": {},
   "cell_type": "markdown",
   "source": [
    "## Group customers by country\n",
    "\n",
    "We can analyze how many customers belong to each country"
   ],
   "id": "4f4111d71d0660b"
  },
  {
   "metadata": {
    "ExecuteTime": {
     "end_time": "2025-02-13T14:28:16.061224Z",
     "start_time": "2025-02-13T14:28:16.056263Z"
    }
   },
   "cell_type": "code",
   "source": [
    "# Count the number of customers per country\n",
    "country_counts = df_combined['Country'].value_counts()\n",
    "\n",
    "# Display the top 10 countries\n",
    "print(\"\\nTop 10 countries by customer count:\\n\", country_counts.head(10))"
   ],
   "id": "cb2c134019c6cf7a",
   "outputs": [
    {
     "name": "stdout",
     "output_type": "stream",
     "text": [
      "\n",
      "Top 10 countries by customer count:\n",
      " Country\n",
      "Solomon Islands                                 4\n",
      "Saint Vincent and the Grenadines                2\n",
      "Bulgaria                                        2\n",
      "Oman                                            2\n",
      "Netherlands                                     2\n",
      "Sri Lanka                                       2\n",
      "Togo                                            2\n",
      "South Georgia and the South Sandwich Islands    2\n",
      "Belarus                                         2\n",
      "Zimbabwe                                        2\n",
      "Name: count, dtype: int64\n"
     ]
    }
   ],
   "execution_count": 20
  },
  {
   "metadata": {},
   "cell_type": "markdown",
   "source": [
    "## Save the cleaned dataset\n",
    "Finally, we can save the cleaned and merged dataset into a new CSV file"
   ],
   "id": "f694886476fe86f0"
  },
  {
   "metadata": {
    "ExecuteTime": {
     "end_time": "2025-02-13T14:33:42.790943Z",
     "start_time": "2025-02-13T14:33:42.784013Z"
    }
   },
   "cell_type": "code",
   "source": [
    "# Save the cleaned DataFrame to a new CSV file\n",
    "df_combined.to_csv('cleanData/customers_combined.csv', index=False)\n",
    "print(\"\\nCleaned dataset saved as 'customeres_combined.csv'\")"
   ],
   "id": "2541e005f7cc33bb",
   "outputs": [
    {
     "name": "stdout",
     "output_type": "stream",
     "text": [
      "\n",
      "Cleaned dataset saved as 'customeres_combined.csv'\n"
     ]
    }
   ],
   "execution_count": 23
  }
 ],
 "metadata": {
  "kernelspec": {
   "display_name": "Python 3",
   "language": "python",
   "name": "python3"
  },
  "language_info": {
   "codemirror_mode": {
    "name": "ipython",
    "version": 2
   },
   "file_extension": ".py",
   "mimetype": "text/x-python",
   "name": "python",
   "nbconvert_exporter": "python",
   "pygments_lexer": "ipython2",
   "version": "2.7.6"
  }
 },
 "nbformat": 4,
 "nbformat_minor": 5
}
